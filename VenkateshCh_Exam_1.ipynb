{
  "nbformat": 4,
  "nbformat_minor": 0,
  "metadata": {
    "colab": {
      "provenance": []
    },
    "kernelspec": {
      "name": "python3",
      "display_name": "Python 3"
    },
    "language_info": {
      "name": "python"
    }
  },
  "cells": [
    {
      "cell_type": "code",
      "execution_count": 60,
      "metadata": {
        "id": "3gN_7Qqo7MTV"
      },
      "outputs": [],
      "source": [
        "# Spark init\n",
        "!wget -q https://dlcdn.apache.org/spark/spark-3.3.2/spark-3.3.2-bin-hadoop2.tgz\n",
        "!tar xf spark-3.3.2-bin-hadoop2.tgz\n",
        "import os\n",
        "os.environ[\"JAVA_HOME\"] = \"/usr/lib/jvm/default-java\"\n",
        "os.environ[\"SPARK_HOME\"] = \"/content/spark-3.3.2-bin-hadoop2\"\n",
        "!pip install -q findspark\n",
        "import findspark\n",
        "findspark.init()"
      ]
    },
    {
      "cell_type": "code",
      "source": [
        "from google.colab import drive\n",
        "drive.mount('/content/drive')"
      ],
      "metadata": {
        "colab": {
          "base_uri": "https://localhost:8080/"
        },
        "id": "8epINJ837hpo",
        "outputId": "a68614ba-1c2a-4493-d45e-f68a2afaf059"
      },
      "execution_count": 3,
      "outputs": [
        {
          "output_type": "stream",
          "name": "stdout",
          "text": [
            "Mounted at /content/drive\n"
          ]
        }
      ]
    },
    {
      "cell_type": "code",
      "source": [
        "!wget --no-check-certificate 'https://drive.google.com/u/0/uc?id=1TIHlxcb61tDvXg9mtOaypQIPCTeFW0dH' -O '/content/drive/MyDrive/data/rating-Alaska.csv.gz'\n",
        "!gunzip -d '/content/drive/MyDrive/data/rating-Alaska.csv.gz'"
      ],
      "metadata": {
        "colab": {
          "base_uri": "https://localhost:8080/"
        },
        "id": "eHvg0HJy7ff4",
        "outputId": "b2f4c381-4862-47da-e3cb-225e8af946ec"
      },
      "execution_count": 61,
      "outputs": [
        {
          "output_type": "stream",
          "name": "stdout",
          "text": [
            "--2023-03-10 01:27:23--  https://drive.google.com/u/0/uc?id=1TIHlxcb61tDvXg9mtOaypQIPCTeFW0dH\n",
            "Resolving drive.google.com (drive.google.com)... 142.251.163.139, 142.251.163.113, 142.251.163.138, ...\n",
            "Connecting to drive.google.com (drive.google.com)|142.251.163.139|:443... connected.\n",
            "HTTP request sent, awaiting response... 302 Found\n",
            "Location: https://drive.google.com/uc?id=1TIHlxcb61tDvXg9mtOaypQIPCTeFW0dH [following]\n",
            "--2023-03-10 01:27:23--  https://drive.google.com/uc?id=1TIHlxcb61tDvXg9mtOaypQIPCTeFW0dH\n",
            "Reusing existing connection to drive.google.com:443.\n",
            "HTTP request sent, awaiting response... 303 See Other\n",
            "Location: https://doc-0o-14-docs.googleusercontent.com/docs/securesc/ha0ro937gcuc7l7deffksulhg5h7mbp1/d9dsfvq7e401viv3i4d0knfqet0shlba/1678411575000/10931378669845637259/*/1TIHlxcb61tDvXg9mtOaypQIPCTeFW0dH?uuid=6241d265-1802-4e19-bc2b-bab9f6bf6e33 [following]\n",
            "Warning: wildcards not supported in HTTP.\n",
            "--2023-03-10 01:27:26--  https://doc-0o-14-docs.googleusercontent.com/docs/securesc/ha0ro937gcuc7l7deffksulhg5h7mbp1/d9dsfvq7e401viv3i4d0knfqet0shlba/1678411575000/10931378669845637259/*/1TIHlxcb61tDvXg9mtOaypQIPCTeFW0dH?uuid=6241d265-1802-4e19-bc2b-bab9f6bf6e33\n",
            "Resolving doc-0o-14-docs.googleusercontent.com (doc-0o-14-docs.googleusercontent.com)... 142.251.163.132, 2607:f8b0:4004:c1b::84\n",
            "Connecting to doc-0o-14-docs.googleusercontent.com (doc-0o-14-docs.googleusercontent.com)|142.251.163.132|:443... connected.\n",
            "HTTP request sent, awaiting response... 200 OK\n",
            "Length: 20188868 (19M) [application/gzip]\n",
            "Saving to: ‘/content/drive/MyDrive/data/rating-Alaska.csv.gz’\n",
            "\n",
            "/content/drive/MyDr 100%[===================>]  19.25M  10.4MB/s    in 1.9s    \n",
            "\n",
            "2023-03-10 01:27:28 (10.4 MB/s) - ‘/content/drive/MyDrive/data/rating-Alaska.csv.gz’ saved [20188868/20188868]\n",
            "\n",
            "gzip: /content/drive/MyDrive/data/rating-Alaska.csv already exists; do you wish to overwrite (y or n)? n\n",
            "\tnot overwritten\n"
          ]
        }
      ]
    },
    {
      "cell_type": "code",
      "source": [
        "from pyspark.sql.types import *\n",
        "from pyspark.sql import SparkSession\n",
        "\n",
        "spark = SparkSession.builder\\\n",
        "        .master(\"local\")\\\n",
        "        .appName(\"Colab\")\\\n",
        "        .config('spark.ui.port', '4050')\\\n",
        "        .getOrCreate()"
      ],
      "metadata": {
        "id": "hKIw0o4d8VgF"
      },
      "execution_count": 62,
      "outputs": []
    },
    {
      "cell_type": "code",
      "source": [
        "df = spark.read.csv(\"/content/drive/MyDrive/data/rating-Alaska.csv\",header=True)\n",
        "df.show()"
      ],
      "metadata": {
        "colab": {
          "base_uri": "https://localhost:8080/"
        },
        "id": "odTFp1re8ajN",
        "outputId": "a2171164-5acc-4acd-cfbe-ba7c70531078"
      },
      "execution_count": 63,
      "outputs": [
        {
          "output_type": "stream",
          "name": "stdout",
          "text": [
            "+--------------------+--------------------+------+-------------+\n",
            "|            business|                user|rating|    timestamp|\n",
            "+--------------------+--------------------+------+-------------+\n",
            "|0x56b646ed2220b77...|10912980484268620...|     5|1566331951619|\n",
            "|0x56b646ed2220b77...|10823390834518466...|     5|1503373018846|\n",
            "|0x56b646ed2220b77...|11271909818428319...|     5|1410062370985|\n",
            "|0x56b646ed2220b77...|11142389119045307...|     5|1495241580499|\n",
            "|0x56b646ed2220b77...|11324092640575896...|     5|1504917982385|\n",
            "|0x56b646ed2220b77...|11304483789114125...|     4|1474765901185|\n",
            "|0x56b646ed2220b77...|10588996714814731...|     5|1499178889954|\n",
            "|0x56b646ed2220b77...|11032915514759203...|     4|1472858535682|\n",
            "|0x56b646ed2220b77...|10898963490860201...|     5|1529649811341|\n",
            "|0x56b646ed2220b77...|11596257491256948...|     1|1565638584279|\n",
            "|0x56b646ed2220b77...|10777630865613708...|     5|1461267716241|\n",
            "|0x56b646ed2220b77...|10500297978546557...|     5|1529681946388|\n",
            "|0x56b646ed2220b77...|10640030490754942...|     3|1501376415787|\n",
            "|0x56b646ed2220b77...|11492845137944225...|     3|1494884912688|\n",
            "|0x56b646ed2220b77...|11573886554879607...|     5|1466170294782|\n",
            "|0x56b646ed2220b77...|10440295414539180...|     5|1529087964079|\n",
            "|0x56b646ed2220b77...|10117699333228261...|     5|1506174365844|\n",
            "|0x56b646ed2220b77...|10824243968691593...|     5|1500774004605|\n",
            "|0x56c8992b5dee722...|11639323198795654...|     5|1625369270215|\n",
            "|0x56c8992b5dee722...|11538364636280874...|     3|1627071932904|\n",
            "+--------------------+--------------------+------+-------------+\n",
            "only showing top 20 rows\n",
            "\n"
          ]
        }
      ]
    },
    {
      "cell_type": "code",
      "source": [
        "!pip install pandas matplotlib seaborn"
      ],
      "metadata": {
        "colab": {
          "base_uri": "https://localhost:8080/"
        },
        "id": "XQK8FWOz_UXh",
        "outputId": "8f17e6a6-58a5-4be6-8fc5-1bbdbdaf49bd"
      },
      "execution_count": 19,
      "outputs": [
        {
          "output_type": "stream",
          "name": "stdout",
          "text": [
            "Looking in indexes: https://pypi.org/simple, https://us-python.pkg.dev/colab-wheels/public/simple/\n",
            "Requirement already satisfied: pandas in /usr/local/lib/python3.9/dist-packages (1.3.5)\n",
            "Requirement already satisfied: matplotlib in /usr/local/lib/python3.9/dist-packages (3.5.3)\n",
            "Requirement already satisfied: seaborn in /usr/local/lib/python3.9/dist-packages (0.11.2)\n",
            "Requirement already satisfied: numpy>=1.17.3 in /usr/local/lib/python3.9/dist-packages (from pandas) (1.22.4)\n",
            "Requirement already satisfied: pytz>=2017.3 in /usr/local/lib/python3.9/dist-packages (from pandas) (2022.7.1)\n",
            "Requirement already satisfied: python-dateutil>=2.7.3 in /usr/local/lib/python3.9/dist-packages (from pandas) (2.8.2)\n",
            "Requirement already satisfied: pyparsing>=2.2.1 in /usr/local/lib/python3.9/dist-packages (from matplotlib) (3.0.9)\n",
            "Requirement already satisfied: cycler>=0.10 in /usr/local/lib/python3.9/dist-packages (from matplotlib) (0.11.0)\n",
            "Requirement already satisfied: kiwisolver>=1.0.1 in /usr/local/lib/python3.9/dist-packages (from matplotlib) (1.4.4)\n",
            "Requirement already satisfied: fonttools>=4.22.0 in /usr/local/lib/python3.9/dist-packages (from matplotlib) (4.39.0)\n",
            "Requirement already satisfied: packaging>=20.0 in /usr/local/lib/python3.9/dist-packages (from matplotlib) (23.0)\n",
            "Requirement already satisfied: pillow>=6.2.0 in /usr/local/lib/python3.9/dist-packages (from matplotlib) (8.4.0)\n",
            "Requirement already satisfied: scipy>=1.0 in /usr/local/lib/python3.9/dist-packages (from seaborn) (1.10.1)\n",
            "Requirement already satisfied: six>=1.5 in /usr/local/lib/python3.9/dist-packages (from python-dateutil>=2.7.3->pandas) (1.15.0)\n"
          ]
        }
      ]
    },
    {
      "cell_type": "code",
      "source": [
        "#Find the number of 5-rating users\n",
        "num_5_star_reviews = len(df[df['rating'] == 5])\n",
        "\n",
        "# Print the results\n",
        "print(\"A string that includes the number of reviews receiving the rating of '5' is:\", num_5_star_reviews)"
      ],
      "metadata": {
        "colab": {
          "base_uri": "https://localhost:8080/"
        },
        "id": "Myzz1WtD_WQm",
        "outputId": "dbbb25a3-ff6f-494c-d965-457ec1f2c179"
      },
      "execution_count": 67,
      "outputs": [
        {
          "output_type": "stream",
          "name": "stdout",
          "text": [
            "A string that includes the number of reviews receiving the rating of '5' is: 658262\n"
          ]
        }
      ]
    },
    {
      "cell_type": "code",
      "source": [
        "# Find the number of unique users\n",
        "num_unique_users = len(df['user'].unique())\n",
        "\n",
        "# Print the results\n",
        "print(\"The number of unique users is:\", num_unique_users)"
      ],
      "metadata": {
        "colab": {
          "base_uri": "https://localhost:8080/"
        },
        "id": "xLyhfrCo-S6P",
        "outputId": "e1301c72-b738-49aa-d835-4a0d04363c4e"
      },
      "execution_count": 68,
      "outputs": [
        {
          "output_type": "stream",
          "name": "stdout",
          "text": [
            "The number of unique users is: 278695\n"
          ]
        }
      ]
    },
    {
      "cell_type": "code",
      "source": [
        "# Import the required functions\n",
        "from pyspark.ml.evaluation import RegressionEvaluator\n",
        "from pyspark.ml.recommendation import ALS\n",
        "\n",
        "from pyspark.sql.functions import col\n",
        "from pyspark.ml.feature import StringIndexer\n",
        "\n",
        "index = StringIndexer(inputCol=\"user\", outputCol=\"UserIndex\")\n",
        "\n",
        "index_model=index.fit(df)\n",
        "\n",
        "df_index=index_model.transform(df)"
      ],
      "metadata": {
        "id": "BYYzTfXFH3qH"
      },
      "execution_count": 96,
      "outputs": []
    },
    {
      "cell_type": "code",
      "source": [
        "index_business = StringIndexer(inputCol=\"business\", outputCol=\"BusinessIndex\")\n",
        "\n",
        "index_model_business=index_business.fit(df)\n",
        "\n",
        "df_index=index_model_business.transform(df_index)"
      ],
      "metadata": {
        "id": "45LcGYOwMSb1"
      },
      "execution_count": 97,
      "outputs": []
    },
    {
      "cell_type": "code",
      "source": [
        "rating_df = df_index\n",
        "rating_df = rating_df.withColumn(\"user\", col(\"user\").cast(\"integer\"))\n",
        "rating_df.printSchema()"
      ],
      "metadata": {
        "colab": {
          "base_uri": "https://localhost:8080/"
        },
        "id": "pbVG3bK6LyiM",
        "outputId": "9fceb412-0a37-4929-b355-d9cc656642cc"
      },
      "execution_count": 98,
      "outputs": [
        {
          "output_type": "stream",
          "name": "stdout",
          "text": [
            "root\n",
            " |-- business: string (nullable = true)\n",
            " |-- user: integer (nullable = true)\n",
            " |-- rating: long (nullable = true)\n",
            " |-- timestamp: long (nullable = true)\n",
            " |-- UserIndex: double (nullable = false)\n",
            " |-- BusinessIndex: double (nullable = false)\n",
            "\n"
          ]
        }
      ]
    },
    {
      "cell_type": "code",
      "source": [
        "# Split the data into training,test sets\n",
        "(training_df, test_df) = rating_df.randomSplit([0.8, 0.2])\n",
        "\n",
        "# Train the ALS model\n",
        "df_als = ALS(maxIter=5, regParam=0.01, userCol=\"UserIndex\", itemCol=\"BusinessIndex\", \n",
        "    ratingCol=\"rating\", coldStartStrategy=\"drop\")"
      ],
      "metadata": {
        "id": "hIxoI72XL_rC"
      },
      "execution_count": 101,
      "outputs": []
    },
    {
      "cell_type": "code",
      "source": [
        "model = df_als.fit(training_df)"
      ],
      "metadata": {
        "id": "YECQO1QcNBhU"
      },
      "execution_count": 102,
      "outputs": []
    },
    {
      "cell_type": "code",
      "source": [
        "# Evaluate the model on the test set\n",
        "predictions = model.transform(test_df)\n",
        "df_eval = RegressionEvaluator(metricName=\"rmse\", labelCol=\"rating\",\n",
        "                                predictionCol=\"prediction\")"
      ],
      "metadata": {
        "id": "Ax9k5b53NEMq"
      },
      "execution_count": 104,
      "outputs": []
    },
    {
      "cell_type": "code",
      "source": [
        "root_mean = df_eval.evaluate(predictions)\n",
        "num_of_users = training_df.select(\"UserIndex\").distinct().count()\n",
        "num_of_business = training_df.select(\"BusinessIndex\").distinct().count()"
      ],
      "metadata": {
        "id": "8XIZdTaBNrfv"
      },
      "execution_count": 106,
      "outputs": []
    },
    {
      "cell_type": "code",
      "source": [
        "print(\"The total number of users of the training data = \" + str(num_of_users))\n",
        "print(\"The total number of businesses of the training data = \" + str(num_of_business))\n",
        "print(\"Root-mean-square error of the ALS model = \" + str(root_mean))"
      ],
      "metadata": {
        "colab": {
          "base_uri": "https://localhost:8080/"
        },
        "id": "C-_uOXqvN0OD",
        "outputId": "abefe477-b4d1-4115-80c2-9ddb809c33bc"
      },
      "execution_count": 109,
      "outputs": [
        {
          "output_type": "stream",
          "name": "stdout",
          "text": [
            "The total number of users of the training data = 243825\n",
            "The total number of businesses of the training data = 12525\n",
            "Root-mean-square error of the ALS model = 3.1186199541485617\n"
          ]
        }
      ]
    },
    {
      "cell_type": "code",
      "source": [
        "users = rating_df.select(df_als.getUserCol()).distinct().limit(10)\n",
        "user_recommends = model.recommendForUserSubset(users, 5)\n",
        "user_recommends.show(truncate=False)"
      ],
      "metadata": {
        "colab": {
          "base_uri": "https://localhost:8080/"
        },
        "id": "0YvBO_WfN4im",
        "outputId": "0b36f09f-5a53-48a5-e514-91b186ebdbd2"
      },
      "execution_count": 108,
      "outputs": [
        {
          "output_type": "stream",
          "name": "stdout",
          "text": [
            "+---------+-----------------------------------------------------------------------------------------------+\n",
            "|UserIndex|recommendations                                                                                |\n",
            "+---------+-----------------------------------------------------------------------------------------------+\n",
            "|130842   |[{7112, 5.208185}, {9082, 4.999231}, {10906, 4.573681}, {8873, 4.3016367}, {5765, 4.142447}]   |\n",
            "|113493   |[{6317, 15.026649}, {9033, 13.70389}, {9194, 13.49011}, {4584, 13.316617}, {5305, 12.84112}]   |\n",
            "|17633    |[{7854, 36.970997}, {7257, 36.962933}, {8410, 36.224564}, {7673, 34.626022}, {8003, 34.27674}] |\n",
            "|255693   |[{5434, 4.9994793}, {9327, 4.8389263}, {10005, 3.9507933}, {8099, 3.8697686}, {8713, 3.778717}]|\n",
            "|205965   |[{8277, 4.999713}, {5712, 3.3875847}, {9449, 3.1230187}, {7734, 2.871557}, {6134, 2.7197313}]  |\n",
            "|223675   |[{6841, 4.999462}, {10888, 4.3699794}, {5932, 3.6705213}, {6362, 3.6574922}, {8325, 3.6037424}]|\n",
            "|44506    |[{7854, 29.55307}, {7529, 28.291853}, {6990, 23.887743}, {6326, 20.95347}, {7514, 20.692514}]  |\n",
            "|107167   |[{8509, 8.785175}, {7665, 7.3432336}, {6504, 6.999598}, {9390, 6.977677}, {9151, 6.878833}]    |\n",
            "|94698    |[{10478, 8.418826}, {9437, 8.248547}, {7352, 7.7818394}, {8320, 7.6927524}, {6733, 7.496333}]  |\n",
            "|111568   |[{7674, 5.061841}, {5174, 4.999369}, {7090, 4.881545}, {8668, 4.5021696}, {7510, 4.3820376}]   |\n",
            "+---------+-----------------------------------------------------------------------------------------------+\n",
            "\n"
          ]
        }
      ]
    }
  ]
}